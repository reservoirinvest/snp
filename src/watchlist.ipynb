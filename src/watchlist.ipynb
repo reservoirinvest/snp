{
 "cells": [
  {
   "cell_type": "markdown",
   "metadata": {},
   "source": [
    "# Generates watchlist for IBKR to import into"
   ]
  },
  {
   "cell_type": "code",
   "execution_count": 21,
   "metadata": {},
   "outputs": [],
   "source": [
    "## THIS CELL SHOULD BE IN ALL VSCODE NOTEBOOKS ##\n",
    "\n",
    "MARKET = \"SNP\"\n",
    "\n",
    "# Set the root\n",
    "from from_root import from_root\n",
    "ROOT = from_root()\n",
    "\n",
    "import pandas as pd \n",
    "\n",
    "pd.options.display.max_columns = None\n",
    "pd.set_option('display.precision', 2)\n",
    "\n",
    "from pathlib import Path\n",
    "import sys\n",
    "\n",
    "# Add `src` and ROOT to _src.pth in .venv to allow imports in VS Code\n",
    "from sysconfig import get_path\n",
    "\n",
    "if \"src\" not in Path.cwd().parts:\n",
    "    src_path = str(Path(get_path(\"purelib\")) / \"_src.pth\")\n",
    "    with open(src_path, \"w\") as f:\n",
    "        f.write(str(ROOT / \"src\\n\"))\n",
    "        f.write(str(ROOT))\n",
    "        if str(ROOT) not in sys.path:\n",
    "            sys.path.insert(1, str(ROOT))\n",
    "\n",
    "# Start the Jupyter loop\n",
    "from ib_async import util # type: ignore\n",
    "\n",
    "util.startLoop()"
   ]
  },
  {
   "cell_type": "code",
   "execution_count": null,
   "metadata": {},
   "outputs": [],
   "source": [
    "from fast_prices import df_iv\n",
    "from utils import get_ib, get_open_orders, get_pickle, quick_pf\n",
    "\n",
    "# Get positions and orders to remove\n",
    "with get_ib('SNP') as ib:\n",
    "    positions = quick_pf(ib)\n",
    "    ords = get_open_orders(ib)\n",
    "\n",
    "    if len(ords) > 0:\n",
    "        openords = get_open_orders(ib).symbol.to_list()\n",
    "    else: \n",
    "        openords = set()\n",
    "    pos_symbols = positions.symbol.to_list()\n",
    "    remove = set(pos_symbols).union(((openords)))\n",
    "    \n",
    "# Get clean targets from unds\n",
    "unds = get_pickle(ROOT / 'data' / 'snp_unds.pkl')\n",
    "\n",
    "contracts = [c for c in unds if c.symbol not in remove]\n",
    "\n",
    "# Get volatilities of these contracts\n",
    "with get_ib('SNP') as ib:\n",
    "    df = await df_iv(ib=ib, stocks=contracts)"
   ]
  },
  {
   "cell_type": "code",
   "execution_count": 27,
   "metadata": {},
   "outputs": [],
   "source": [
    "# Sort df on the ratio of iv to hv in ascending order\n",
    "df['ivhv'] = df.hv/df.iv\n",
    "df = df.sort_values('ivhv').drop(columns='ivhv')"
   ]
  },
  {
   "cell_type": "code",
   "execution_count": 28,
   "metadata": {},
   "outputs": [],
   "source": [
    "# Write to CSV\n",
    "csv_txt = [f\"DES:{c.symbol}\"+\":STK:SMART/AMEX,,,,,\" for c in df.contract]\n",
    "with open(ROOT / 'data' / 'watchlist.csv', 'w', newline='') as file:\n",
    "    for item in csv_txt:\n",
    "        file.write(item.replace(':', ',') + '\\n')"
   ]
  },
  {
   "cell_type": "code",
   "execution_count": null,
   "metadata": {},
   "outputs": [],
   "source": []
  }
 ],
 "metadata": {
  "kernelspec": {
   "display_name": ".venv",
   "language": "python",
   "name": "python3"
  },
  "language_info": {
   "codemirror_mode": {
    "name": "ipython",
    "version": 3
   },
   "file_extension": ".py",
   "mimetype": "text/x-python",
   "name": "python",
   "nbconvert_exporter": "python",
   "pygments_lexer": "ipython3",
   "version": "3.11.5"
  }
 },
 "nbformat": 4,
 "nbformat_minor": 2
}
