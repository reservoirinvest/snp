{
 "cells": [
  {
   "cell_type": "markdown",
   "metadata": {},
   "source": [
    "# Generates watchlist for IBKR to import into"
   ]
  },
  {
   "cell_type": "code",
   "execution_count": 14,
   "metadata": {},
   "outputs": [
    {
     "data": {
      "text/plain": [
       "3"
      ]
     },
     "execution_count": 14,
     "metadata": {},
     "output_type": "execute_result"
    }
   ],
   "source": [
    "## THIS CELL SHOULD BE IN ALL VSCODE NOTEBOOKS ##\n",
    "\n",
    "MARKET = \"SNP\"\n",
    "\n",
    "# Set the root\n",
    "from from_root import from_root\n",
    "ROOT = from_root()\n",
    "\n",
    "import pandas as pd \n",
    "from loguru import logger \n",
    "\n",
    "pd.options.display.max_columns = None\n",
    "pd.set_option('display.precision', 2)\n",
    "\n",
    "from pathlib import Path\n",
    "import sys\n",
    "\n",
    "# Add `src` and ROOT to _src.pth in .venv to allow imports in VS Code\n",
    "from sysconfig import get_path\n",
    "\n",
    "if \"src\" not in Path.cwd().parts:\n",
    "    src_path = str(Path(get_path(\"purelib\")) / \"_src.pth\")\n",
    "    with open(src_path, \"w\") as f:\n",
    "        f.write(str(ROOT / \"src\\n\"))\n",
    "        f.write(str(ROOT))\n",
    "        if str(ROOT) not in sys.path:\n",
    "            sys.path.insert(1, str(ROOT))\n",
    "\n",
    "# Start the Jupyter loop\n",
    "from ib_async import util # type: ignore\n",
    "\n",
    "util.startLoop()\n",
    "\n",
    "logger.add(sink=ROOT / \"log\" / \"snp.log\", mode=\"w\")"
   ]
  },
  {
   "cell_type": "code",
   "execution_count": 32,
   "metadata": {},
   "outputs": [],
   "source": [
    "\n",
    "from snp import quick_pf, get_ib, get_pickle, get_open_orders\n",
    "\n",
    "# Get positions and orders to remove\n",
    "with get_ib('SNP') as ib:\n",
    "    positions = quick_pf(ib)\n",
    "    openords = get_open_orders(ib).symbol.to_list()\n",
    "    pos_symbols = positions.symbol.to_list()\n",
    "    remove = set(pos_symbols).union(((openords)))\n",
    "\n",
    "# Get clean targets from unds\n",
    "df_unds = get_pickle(ROOT / 'data' / 'snp_unds.pkl')\n",
    "df_unds = df_unds[~df_unds.ib_symbol.isin(remove)]\n",
    "df_unds = df_unds.sort_values('ib_symbol').reset_index(drop=True)\n",
    "\n",
    "# Write to CSV\n",
    "csv_txt = [f\"DES:{c.symbol}\"+\":STK:SMART/AMEX,,,,,\" for c in df_unds.contract]\n",
    "with open(ROOT / 'data' / 'watchlist.csv', 'w', newline='') as file:\n",
    "    for item in csv_txt:\n",
    "        file.write(item.replace(':', ',') + '\\n')"
   ]
  }
 ],
 "metadata": {
  "kernelspec": {
   "display_name": ".venv",
   "language": "python",
   "name": "python3"
  },
  "language_info": {
   "codemirror_mode": {
    "name": "ipython",
    "version": 3
   },
   "file_extension": ".py",
   "mimetype": "text/x-python",
   "name": "python",
   "nbconvert_exporter": "python",
   "pygments_lexer": "ipython3",
   "version": "3.11.5"
  }
 },
 "nbformat": 4,
 "nbformat_minor": 2
}
