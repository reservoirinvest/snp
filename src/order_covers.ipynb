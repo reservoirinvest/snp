{
 "cells": [
  {
   "cell_type": "markdown",
   "metadata": {},
   "source": [
    "# Order Covers"
   ]
  },
  {
   "cell_type": "code",
   "execution_count": null,
   "metadata": {},
   "outputs": [],
   "source": [
    "## THIS CELL SHOULD BE IN ALL VSCODE NOTEBOOKS ##\n",
    "\n",
    "MARKET = \"SNP\"\n",
    "\n",
    "# Set the root\n",
    "from from_root import from_root # type: ignore\n",
    "ROOT = from_root()\n",
    "\n",
    "import pandas as pd # type: ignore\n",
    "from loguru import logger # type: ignore\n",
    "\n",
    "pd.options.display.max_columns = None\n",
    "pd.set_option('display.precision', 2)\n",
    "\n",
    "from pathlib import Path\n",
    "import sys\n",
    "\n",
    "# Add `src` and ROOT to _src.pth in .venv to allow imports in VS Code\n",
    "from sysconfig import get_path\n",
    "\n",
    "if \"src\" not in Path.cwd().parts:\n",
    "    src_path = str(Path(get_path(\"purelib\")) / \"_src.pth\")\n",
    "    with open(src_path, \"w\") as f:\n",
    "        f.write(str(ROOT / \"src\\n\"))\n",
    "        f.write(str(ROOT))\n",
    "        if str(ROOT) not in sys.path:\n",
    "            sys.path.insert(1, str(ROOT))\n",
    "\n",
    "# Start the Jupyter loop\n",
    "from ib_async import util # type: ignore\n",
    "\n",
    "util.startLoop()\n",
    "\n",
    "logger.add(sink=ROOT / \"log\" / \"snp.log\", mode=\"w\")"
   ]
  },
  {
   "cell_type": "markdown",
   "metadata": {},
   "source": [
    "# Prepare the orders"
   ]
  },
  {
   "cell_type": "code",
   "execution_count": null,
   "metadata": {},
   "outputs": [],
   "source": [
    "from covers import process_covered_positions\n",
    "\n",
    "_, _, dfcov = process_covered_positions()"
   ]
  },
  {
   "cell_type": "code",
   "execution_count": 13,
   "metadata": {},
   "outputs": [],
   "source": [
    "## Get open orders\n",
    "from src.snp import get_ib, get_open_orders, quick_pf\n",
    "\n",
    "# check open orders\n",
    "with get_ib('SNP') as ib:\n",
    "    dfo = get_open_orders(ib)\n",
    "    dfp = quick_pf(ib)"
   ]
  },
  {
   "cell_type": "code",
   "execution_count": 14,
   "metadata": {},
   "outputs": [],
   "source": [
    "longs = dfp[(dfp.secType == 'STK') & (dfp.position > 0)].symbol.to_list()\n",
    "shorts = dfp[(dfp.secType == 'STK') & (dfp.position < 0)].symbol.to_list()\n"
   ]
  },
  {
   "cell_type": "code",
   "execution_count": 15,
   "metadata": {},
   "outputs": [],
   "source": [
    "existing_long_order_symbols = dfo[dfo.symbol.isin(longs) & (dfo.right == 'C')].symbol.to_list()\n",
    "existing_short_order_symbols = dfo[dfo.symbol.isin(shorts) & (dfo.right == 'P')].symbol.to_list()"
   ]
  },
  {
   "cell_type": "code",
   "execution_count": null,
   "metadata": {},
   "outputs": [],
   "source": [
    "symbols_to_remove = existing_long_order_symbols + existing_short_order_symbols\n",
    "dfcov[~dfcov.ib_symbol.isin(symbols_to_remove)]"
   ]
  },
  {
   "cell_type": "code",
   "execution_count": 20,
   "metadata": {},
   "outputs": [],
   "source": [
    "from ib_async import LimitOrder\n",
    "from snp import get_prec\n",
    "\n",
    "def make_ib_orders(df: pd.DataFrame) -> tuple:\n",
    "    \"\"\"Make (contract, order) tuples\"\"\"\n",
    "\n",
    "    contracts = df.contract.to_list()\n",
    "    orders = [\n",
    "        LimitOrder(action=\"SELL\", totalQuantity=abs(int(q)), lmtPrice=get_prec(p, 0.01))\n",
    "        for q, p in zip(df.lot, df.xPrice)\n",
    "    ]\n",
    "\n",
    "    cos = tuple((c, o) for c, o in zip(contracts, orders))\n",
    "\n",
    "    return cos"
   ]
  },
  {
   "cell_type": "code",
   "execution_count": null,
   "metadata": {},
   "outputs": [],
   "source": [
    "# make the lots\n",
    "dfcov['lot'] = abs(dfcov.position/100).astype('int')\n",
    "dfcov.head()"
   ]
  },
  {
   "cell_type": "code",
   "execution_count": null,
   "metadata": {},
   "outputs": [],
   "source": [
    "# Make contract orders of the target\n",
    "cos = make_ib_orders(dfcov)\n",
    "cos"
   ]
  },
  {
   "cell_type": "markdown",
   "metadata": {},
   "source": [
    "# PLACE THE ORDERS\n"
   ]
  },
  {
   "cell_type": "raw",
   "metadata": {
    "vscode": {
     "languageId": "raw"
    }
   },
   "source": [
    "# PLACES THE ORDERS\n",
    "# =================\n",
    "\n",
    "from datetime import datetime\n",
    "from src.snp import get_ib, pickle_me, place_orders\n",
    "\n",
    "\n",
    "with get_ib('SNP') as ib:\n",
    "    ordered = place_orders(ib=ib, cos=cos)\n",
    "    \n",
    "filename = f\"{datetime.now().strftime('%Y%m%d_%I_%M_%p')}_snp_covers.pkl\"\n",
    "pickle_me(ordered, str(ROOT / \"data\" / \"history\" / str(filename)))"
   ]
  },
  {
   "cell_type": "code",
   "execution_count": null,
   "metadata": {},
   "outputs": [],
   "source": []
  }
 ],
 "metadata": {
  "kernelspec": {
   "display_name": ".venv",
   "language": "python",
   "name": "python3"
  },
  "language_info": {
   "codemirror_mode": {
    "name": "ipython",
    "version": 3
   },
   "file_extension": ".py",
   "mimetype": "text/x-python",
   "name": "python",
   "nbconvert_exporter": "python",
   "pygments_lexer": "ipython3",
   "version": "3.11.5"
  }
 },
 "nbformat": 4,
 "nbformat_minor": 2
}
