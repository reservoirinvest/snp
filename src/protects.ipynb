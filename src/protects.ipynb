{
 "cells": [
  {
   "cell_type": "markdown",
   "metadata": {},
   "source": [
    "# Code for Protects"
   ]
  },
  {
   "cell_type": "code",
   "execution_count": 1,
   "metadata": {},
   "outputs": [],
   "source": [
    "## THIS CELL SHOULD BE IN ALL VSCODE NOTEBOOKS ##\n",
    "\n",
    "# Set the root\n",
    "import sys\n",
    "from pathlib import Path\n",
    "from sysconfig import get_path\n",
    "\n",
    "import pandas as pd\n",
    "from from_root import from_root\n",
    "from ib_async import util\n",
    "\n",
    "MARKET = \"SNP\"\n",
    "\n",
    "ROOT = from_root()\n",
    "\n",
    "pd.options.display.max_columns = None\n",
    "pd.options.display.float_format = '{:20,.2f}'.format\n",
    "\n",
    "\n",
    "# Add `src` and ROOT to _src.pth in .venv to allow imports in VS Code\n",
    "if \"src\" not in Path.cwd().parts:\n",
    "    src_path = str(Path(get_path(\"purelib\")) / \"_src.pth\")\n",
    "    with open(src_path, \"w\") as f:\n",
    "        f.write(str(ROOT / \"src\\n\"))\n",
    "        f.write(str(ROOT))\n",
    "        if str(ROOT) not in sys.path:\n",
    "            sys.path.insert(1, str(ROOT))\n",
    "\n",
    "# Start the Jupyter loop\n",
    "util.startLoop()"
   ]
  },
  {
   "cell_type": "code",
   "execution_count": null,
   "metadata": {},
   "outputs": [],
   "source": [
    "import asyncio\n",
    "from ibfuncs import df_chains, df_iv, get_ib, get_open_orders, quick_pf\n",
    "from snp import get_snp_unds\n",
    "\n",
    "unds = get_snp_unds()\n",
    "\n",
    "with get_ib('SNP') as ib:\n",
    "\n",
    "    unds_iv=ib.run(df_iv(ib=ib, stocks=unds, msg='first run ivs'))\n",
    "\n",
    "    no_price=unds_iv[unds_iv[['price', 'hv', 'iv']].isnull().any(axis=1)].symbol.to_list()\n",
    "    second_unds_iv = ib.run(df_iv(ib=ib, stocks=no_price, sleep_time=10, msg='second run ivs'))\n",
    "\n",
    "    pf_raw = quick_pf(ib)\n",
    "    oo = get_open_orders(ib)\n",
    "\n",
    "    # Set symbol as index for both dataframes\n",
    "    cols = ['symbol', 'price', 'iv', 'hv']\n",
    "\n",
    "    unds_iv = unds_iv[cols].set_index('symbol')\n",
    "    second_unds_iv = second_unds_iv[cols].set_index('symbol')\n",
    "\n",
    "    # Update unds_iv with non-null values from second_unds_iv \n",
    "    unds_iv.update(second_unds_iv)\n",
    "\n",
    "    # unds_iv = unds_iv.set_index('symbol')[['hv', 'iv', 'price']]\n",
    "    unds_iv.columns = ['und_' + col for col in unds_iv.columns]\n",
    "    unds_iv = unds_iv.reset_index()\n",
    "\n",
    "    # ... add und_price\n",
    "    pf = pf_raw.merge(unds_iv, on='symbol', how='left')\n",
    "\n",
    "    # Update und_price with mktPrice where und_price is NaN and mktPrice has a value\n",
    "    pf.loc[pd.isna(pf['und_price']) & pd.notna(pf['mktPrice']), 'und_price'] = pf['mktPrice']\n",
    "\n",
    "    # Merge the DataFrames on 'symbol'\n",
    "    unds_iv = unds_iv.merge(pf[['symbol', 'und_price']], on='symbol', how='left')\n",
    "\n",
    "    # Fill NaN values in 'und_price_x' with values from 'und_price_y'\n",
    "    unds_iv['und_price'] = unds_iv['und_price_x'].fillna(unds_iv['und_price_y'])\n",
    "\n",
    "    # Drop the unnecessary 'und_price_x' and 'und_price_y' columns\n",
    "    unds_iv = unds_iv.drop(columns=['und_price_x', 'und_price_y'])\n",
    "\n",
    "    df = pf\n"
   ]
  },
  {
   "cell_type": "code",
   "execution_count": 20,
   "metadata": {},
   "outputs": [],
   "source": [
    "# Group by symbol and get strategy based on secType priority\n",
    "def get_strategy(group):\n",
    "    stk_rows = group[group['secType'] == 'STK']\n",
    "    if not stk_rows.empty:\n",
    "        return stk_rows['strategy'].iloc[0]\n",
    "    opt_rows = group[group['secType'] == 'OPT'] \n",
    "    if not opt_rows.empty:\n",
    "        return opt_rows['strategy'].iloc[0]\n",
    "    return 'NA'\n",
    "\n",
    "summary = df.groupby('symbol').agg({\n",
    "    'unPnL': 'sum',\n",
    "    'secType': 'first',\n",
    "    'position': 'first'\n",
    "}).sort_values('unPnL')\n"
   ]
  },
  {
   "cell_type": "code",
   "execution_count": null,
   "metadata": {},
   "outputs": [],
   "source": [
    "df.apply(get_strategy)"
   ]
  },
  {
   "cell_type": "code",
   "execution_count": null,
   "metadata": {},
   "outputs": [],
   "source": [
    "# Add strategy based on secType priority\n",
    "summary['strategy'] = df.groupby('symbol').apply(get_strategy, include_groups=False)\n",
    "\n",
    "summary['position_type'] = summary.apply(lambda x: \n",
    "    'long stock' if x['secType'] == 'STK' and x['position'] > 0 \n",
    "    else 'short stock' if x['secType'] == 'STK' and x['position'] < 0\n",
    "    else 'NA', axis=1)"
   ]
  },
  {
   "cell_type": "code",
   "execution_count": null,
   "metadata": {},
   "outputs": [],
   "source": [
    "get_strategy(df)"
   ]
  },
  {
   "cell_type": "code",
   "execution_count": null,
   "metadata": {},
   "outputs": [],
   "source": [
    "# Add strategy based on secType priority\n",
    "summary['strategy'] = df.groupby('symbol').apply(get_strategy, include_groups=False)\n",
    "\n",
    "summary['position_type'] = summary.apply(lambda x: \n",
    "    'long stock' if x['secType'] == 'STK' and x['position'] > 0 \n",
    "    else 'short stock' if x['secType'] == 'STK' and x['position'] < 0\n",
    "    else 'NA', axis=1)\n",
    "\n",
    "# Display results\n",
    "print(\"\\nP&L, Position Type and Strategy by Symbol:\")\n",
    "print(summary[['unPnL', 'position_type', 'strategy']].to_string(float_format=lambda x: f\"${x:,.2f}\"))\n",
    "\n",
    "m = (df.strategy == 'unprotected') | (df.strategy == 'exposed')\n",
    "df = df[m].reset_index(drop=True)"
   ]
  },
  {
   "cell_type": "code",
   "execution_count": null,
   "metadata": {},
   "outputs": [],
   "source": [
    "\n",
    "    chains = asyncio.run(df_chains(ib, unds, msg='raw chains'))\n"
   ]
  },
  {
   "cell_type": "code",
   "execution_count": null,
   "metadata": {},
   "outputs": [],
   "source": []
  }
 ],
 "metadata": {
  "kernelspec": {
   "display_name": ".venv",
   "language": "python",
   "name": "python3"
  },
  "language_info": {
   "codemirror_mode": {
    "name": "ipython",
    "version": 3
   },
   "file_extension": ".py",
   "mimetype": "text/x-python",
   "name": "python",
   "nbconvert_exporter": "python",
   "pygments_lexer": "ipython3",
   "version": "3.11.5"
  }
 },
 "nbformat": 4,
 "nbformat_minor": 2
}
